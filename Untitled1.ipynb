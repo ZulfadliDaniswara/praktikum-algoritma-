{
 "cells": [
  {
   "cell_type": "code",
   "execution_count": 1,
   "id": "ab601821-1ade-4d8c-9da4-dc99a51e9d16",
   "metadata": {},
   "outputs": [
    {
     "name": "stdout",
     "output_type": "stream",
     "text": [
      "hello wordl\n"
     ]
    }
   ],
   "source": [
    "print (\"hello wordl\")"
   ]
  },
  {
   "cell_type": "code",
   "execution_count": null,
   "id": "7025a3a4-9f31-4a4a-b396-080726afd386",
   "metadata": {},
   "outputs": [],
   "source": []
  }
 ],
 "metadata": {
  "kernelspec": {
   "display_name": "Python 3 (ipykernel)",
   "language": "python",
   "name": "python3"
  },
  "language_info": {
   "codemirror_mode": {
    "name": "ipython",
    "version": 3
   },
   "file_extension": ".py",
   "mimetype": "text/x-python",
   "name": "python",
   "nbconvert_exporter": "python",
   "pygments_lexer": "ipython3",
   "version": "3.11.7"
  }
 },
 "nbformat": 4,
 "nbformat_minor": 5
}
